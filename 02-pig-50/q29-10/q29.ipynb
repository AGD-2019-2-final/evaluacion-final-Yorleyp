{
 "cells": [
  {
   "cell_type": "code",
   "execution_count": 1,
   "metadata": {},
   "outputs": [],
   "source": [
    "%load_ext bigdata\n",
    "%pig_start\n",
    "%timeout 300"
   ]
  },
  {
   "cell_type": "code",
   "execution_count": 2,
   "metadata": {},
   "outputs": [
    {
     "name": "stdout",
     "output_type": "stream",
     "text": [
      " --borando la carpeta output\n",
      " fs -rm -f -r output;\n"
     ]
    }
   ],
   "source": [
    "%%pig\n",
    "--borando la carpeta output\n",
    "fs -rm -f -r output;"
   ]
  },
  {
   "cell_type": "code",
   "execution_count": 3,
   "metadata": {},
   "outputs": [
    {
     "name": "stdout",
     "output_type": "stream",
     "text": [
      " --cargando data.csv a HDFS\n",
      " fs -put data.csv\n"
     ]
    }
   ],
   "source": [
    "%%pig\n",
    "--cargando data.csv a HDFS\n",
    "fs -put data.csv"
   ]
  },
  {
   "cell_type": "code",
   "execution_count": 4,
   "metadata": {},
   "outputs": [
    {
     "name": "stdout",
     "output_type": "stream",
     "text": [
      " --\n",
      " -- Carga el archivo desde el disco duro\n",
      " --\n",
      " u = LOAD 'data.csv' USING PigStorage(',')\n",
      "    AS (id:CHARARRAY,\n",
      "        nombre:CHARARRAY,\n",
      "        apellido:CHARARRAY,\n",
      "        fecha: CHARARRAY,\n",
      "        color: CHARARRAY,\n",
      "        valor: INT);\n",
      " --DUMP u;\n"
     ]
    }
   ],
   "source": [
    "%%pig\n",
    "--\n",
    "-- Carga el archivo desde el disco duro\n",
    "--\n",
    "u = LOAD 'data.csv' USING PigStorage(',')\n",
    "    AS (id:CHARARRAY,\n",
    "        nombre:CHARARRAY,\n",
    "        apellido:CHARARRAY,\n",
    "        fecha: CHARARRAY,\n",
    "        color: CHARARRAY,\n",
    "        valor: INT);\n",
    "--DUMP u;"
   ]
  },
  {
   "cell_type": "code",
   "execution_count": 5,
   "metadata": {},
   "outputs": [
    {
     "name": "stdout",
     "output_type": "stream",
     "text": [
      " --\n",
      "ime);FOREACH u GENERATE fecha, ToDate(fecha,'yyyy-MM-dd') as (fecha2:DateT \n",
      " --DUMP v;\n"
     ]
    }
   ],
   "source": [
    "%%pig\n",
    "--\n",
    "v = FOREACH u GENERATE fecha, ToDate(fecha,'yyyy-MM-dd') as (fecha2:DateTime);\n",
    "--DUMP v;"
   ]
  },
  {
   "cell_type": "code",
   "execution_count": 6,
   "metadata": {},
   "outputs": [
    {
     "name": "stdout",
     "output_type": "stream",
     "text": [
      " --\n",
      "REGEX_EXTRACT(fecha, '(..)(..)-(..)-(..)', 2) as c3, GetMonth(fecha2) as c4;\n",
      " --DUMP w;\n"
     ]
    }
   ],
   "source": [
    "%%pig\n",
    "--\n",
    "w = FOREACH v GENERATE fecha as c1, LOWER(ToString(fecha2, 'MMM')) as c2,REGEX_EXTRACT(fecha, '(..)(..)-(..)-(..)', 2) as c3, GetMonth(fecha2) as c4;\n",
    "--DUMP w;"
   ]
  },
  {
   "cell_type": "code",
   "execution_count": 7,
   "metadata": {},
   "outputs": [
    {
     "name": "stdout",
     "output_type": "stream",
     "text": [
      " --\n",
      " x = FOREACH w GENERATE c1, REPLACE(c2, 'jan', 'ene') AS c2, c3, c4;\n",
      " x = FOREACH x GENERATE c1, REPLACE(c2, 'feb', 'feb') AS c2, c3, c4;\n",
      " x = FOREACH x GENERATE c1, REPLACE(c2, 'mar', 'mar') AS c2, c3, c4;\n",
      " x = FOREACH x GENERATE c1, REPLACE(c2, 'apr', 'abr') AS c2, c3, c4;\n",
      " x = FOREACH x GENERATE c1, REPLACE(c2, 'may', 'may') AS c2, c3, c4;\n",
      " x = FOREACH x GENERATE c1, REPLACE(c2, 'jun', 'jun') AS c2, c3, c4;\n",
      " x = FOREACH x GENERATE c1, REPLACE(c2, 'jul', 'jul') AS c2, c3, c4;\n",
      " x = FOREACH x GENERATE c1, REPLACE(c2, 'aug', 'ago') AS c2, c3, c4;\n",
      " x = FOREACH x GENERATE c1, REPLACE(c2, 'sep', 'sep') AS c2, c3, c4;\n",
      " x = FOREACH x GENERATE c1, REPLACE(c2, 'oct', 'oct') AS c2, c3, c4;\n",
      " x = FOREACH x GENERATE c1, REPLACE(c2, 'nov', 'nov') AS c2, c3, c4;\n",
      " x = FOREACH x GENERATE c1, REPLACE(c2, 'dec', 'dic') AS c2, c3, c4;\n",
      " --DUMP x;\n"
     ]
    }
   ],
   "source": [
    "%%pig\n",
    "--\n",
    "x = FOREACH w GENERATE c1, REPLACE(c2, 'jan', 'ene') AS c2, c3, c4;\n",
    "x = FOREACH x GENERATE c1, REPLACE(c2, 'feb', 'feb') AS c2, c3, c4;\n",
    "x = FOREACH x GENERATE c1, REPLACE(c2, 'mar', 'mar') AS c2, c3, c4;\n",
    "x = FOREACH x GENERATE c1, REPLACE(c2, 'apr', 'abr') AS c2, c3, c4;\n",
    "x = FOREACH x GENERATE c1, REPLACE(c2, 'may', 'may') AS c2, c3, c4;\n",
    "x = FOREACH x GENERATE c1, REPLACE(c2, 'jun', 'jun') AS c2, c3, c4;\n",
    "x = FOREACH x GENERATE c1, REPLACE(c2, 'jul', 'jul') AS c2, c3, c4;\n",
    "x = FOREACH x GENERATE c1, REPLACE(c2, 'aug', 'ago') AS c2, c3, c4;\n",
    "x = FOREACH x GENERATE c1, REPLACE(c2, 'sep', 'sep') AS c2, c3, c4;\n",
    "x = FOREACH x GENERATE c1, REPLACE(c2, 'oct', 'oct') AS c2, c3, c4;\n",
    "x = FOREACH x GENERATE c1, REPLACE(c2, 'nov', 'nov') AS c2, c3, c4;\n",
    "x = FOREACH x GENERATE c1, REPLACE(c2, 'dec', 'dic') AS c2, c3, c4;\n",
    "--DUMP x;"
   ]
  },
  {
   "cell_type": "code",
   "execution_count": 8,
   "metadata": {},
   "outputs": [
    {
     "name": "stdout",
     "output_type": "stream",
     "text": [
      " --\n",
      " STORE x INTO 'output' USING PigStorage(',');\n",
      "2020-02-15 22:14:26,828 [main] INFO  org.apache.hadoop.conf.Configuration.deprecation - mapred.textoutputformat.separator is deprecated. Instead, use mapreduce.output.textoutputformat.separator\n",
      "2020-02-15 22:14:27,192 [main] INFO  org.apache.hadoop.yarn.client.RMProxy - Connecting to ResourceManager at /0.0.0.0:8032\n",
      "2020-02-15 22:14:27,376 [main] INFO  org.apache.hadoop.conf.Configuration.deprecation - mapred.job.reduce.markreset.buffer.percent is deprecated. Instead, use mapreduce.reduce.markreset.buffer.percent\n",
      "2020-02-15 22:14:27,378 [main] INFO  org.apache.hadoop.conf.Configuration.deprecation - mapred.output.compress is deprecated. Instead, use mapreduce.output.fileoutputformat.compress\n",
      "2020-02-15 22:14:27,391 [main] INFO  org.apache.hadoop.conf.Configuration.deprecation - mapred.submit.replication is deprecated. Instead, use mapreduce.client.submit.file.replication\n",
      "2020-02-15 22:14:27,649 [main] INFO  org.apache.hadoop.conf.Configuration.deprecation - mapred.job.tracker.http.address is deprecated. Instead, use mapreduce.jobtracker.http.address\n",
      "2020-02-15 22:14:27,656 [JobControl] INFO  org.apache.hadoop.yarn.client.RMProxy - Connecting to ResourceManager at /0.0.0.0:8032\n",
      "2020-02-15 22:14:27,675 [JobControl] INFO  org.apache.hadoop.conf.Configuration.deprecation - mapred.task.id is deprecated. Instead, use mapreduce.task.attempt.id\n",
      "2020-02-15 22:14:27,751 [JobControl] WARN  org.apache.hadoop.mapreduce.JobResourceUploader - No job jar file set.  User classes may not be found. See Job or Job#setJar(String).\n",
      "2020-02-15 22:14:27,774 [JobControl] INFO  org.apache.hadoop.mapreduce.lib.input.FileInputFormat - Total input files to process : 1\n",
      "2020-02-15 22:14:27,843 [JobControl] INFO  org.apache.hadoop.mapreduce.JobSubmitter - number of splits:1\n",
      "2020-02-15 22:14:28,053 [JobControl] INFO  org.apache.hadoop.mapreduce.JobSubmitter - Submitting tokens for job: job_1581800799381_0017\n",
      "2020-02-15 22:14:28,200 [JobControl] INFO  org.apache.hadoop.mapred.YARNRunner - Job jar is not present. Not adding any jar to the list of resources.\n",
      "2020-02-15 22:14:28,297 [JobControl] INFO  org.apache.hadoop.yarn.client.api.impl.YarnClientImpl - Submitted application application_1581800799381_0017\n",
      "2020-02-15 22:14:28,333 [JobControl] INFO  org.apache.hadoop.mapreduce.Job - The url to track the job: http://9b2ef18b4def:8088/proxy/application_1581800799381_0017/\n",
      "2020-02-15 22:14:43,519 [main] INFO  org.apache.hadoop.yarn.client.RMProxy - Connecting to ResourceManager at /0.0.0.0:8032\n",
      "2020-02-15 22:14:43,528 [main] INFO  org.apache.hadoop.mapred.ClientServiceDelegate - Application state is completed. FinalApplicationStatus=SUCCEEDED. Redirecting to job history server\n",
      "2020-02-15 22:14:43,696 [main] INFO  org.apache.hadoop.yarn.client.RMProxy - Connecting to ResourceManager at /0.0.0.0:8032\n",
      "2020-02-15 22:14:43,701 [main] INFO  org.apache.hadoop.mapred.ClientServiceDelegate - Application state is completed. FinalApplicationStatus=SUCCEEDED. Redirecting to job history server\n",
      "2020-02-15 22:14:43,729 [main] INFO  org.apache.hadoop.conf.Configuration.deprecation - mapred.reduce.tasks is deprecated. Instead, use mapreduce.job.reduces\n",
      "2020-02-15 22:14:43,730 [main] INFO  org.apache.hadoop.yarn.client.RMProxy - Connecting to ResourceManager at /0.0.0.0:8032\n",
      "2020-02-15 22:14:43,734 [main] INFO  org.apache.hadoop.mapred.ClientServiceDelegate - Application state is completed. FinalApplicationStatus=SUCCEEDED. Redirecting to job history server\n",
      "2020-02-15 22:14:43,788 [main] INFO  org.apache.hadoop.yarn.client.RMProxy - Connecting to ResourceManager at /0.0.0.0:8032\n",
      "2020-02-15 22:14:43,791 [main] INFO  org.apache.hadoop.mapred.ClientServiceDelegate - Application state is completed. FinalApplicationStatus=SUCCEEDED. Redirecting to job history server\n",
      "2020-02-15 22:14:43,821 [main] INFO  org.apache.hadoop.yarn.client.RMProxy - Connecting to ResourceManager at /0.0.0.0:8032\n",
      "2020-02-15 22:14:43,824 [main] INFO  org.apache.hadoop.mapred.ClientServiceDelegate - Application state is completed. FinalApplicationStatus=SUCCEEDED. Redirecting to job history server\n",
      "2020-02-15 22:14:43,854 [main] INFO  org.apache.hadoop.yarn.client.RMProxy - Connecting to ResourceManager at /0.0.0.0:8032\n",
      "2020-02-15 22:14:43,858 [main] INFO  org.apache.hadoop.mapred.ClientServiceDelegate - Application state is completed. FinalApplicationStatus=SUCCEEDED. Redirecting to job history server\n"
     ]
    }
   ],
   "source": [
    "%%pig\n",
    "--\n",
    "STORE x INTO 'output' USING PigStorage(',');"
   ]
  },
  {
   "cell_type": "code",
   "execution_count": 9,
   "metadata": {},
   "outputs": [
    {
     "name": "stdout",
     "output_type": "stream",
     "text": [
      " -- copia los archivos del HDFS al sistema local\n",
      " fs -get output/ .\n"
     ]
    }
   ],
   "source": [
    "%%pig\n",
    "-- copia los archivos del HDFS al sistema local\n",
    "fs -get output/ ."
   ]
  },
  {
   "cell_type": "code",
   "execution_count": 10,
   "metadata": {},
   "outputs": [
    {
     "name": "stdout",
     "output_type": "stream",
     "text": [
      "Deleted data.csv\n",
      "Deleted output/_SUCCESS\n",
      "Deleted output/part-m-00000\n"
     ]
    }
   ],
   "source": [
    "## Se elimina el directorio de salida en el hdfs si existe\n",
    "!hadoop fs -rm data.csv\n",
    "!hadoop fs -rm output/*\n",
    "!hadoop fs -rmdir output"
   ]
  },
  {
   "cell_type": "code",
   "execution_count": 11,
   "metadata": {},
   "outputs": [],
   "source": [
    "%pig_quit"
   ]
  },
  {
   "cell_type": "code",
   "execution_count": null,
   "metadata": {},
   "outputs": [],
   "source": []
  }
 ],
 "metadata": {
  "kernelspec": {
   "display_name": "Python 3",
   "language": "python",
   "name": "python3"
  },
  "language_info": {
   "codemirror_mode": {
    "name": "ipython",
    "version": 3
   },
   "file_extension": ".py",
   "mimetype": "text/x-python",
   "name": "python",
   "nbconvert_exporter": "python",
   "pygments_lexer": "ipython3",
   "version": "3.6.8"
  }
 },
 "nbformat": 4,
 "nbformat_minor": 4
}
