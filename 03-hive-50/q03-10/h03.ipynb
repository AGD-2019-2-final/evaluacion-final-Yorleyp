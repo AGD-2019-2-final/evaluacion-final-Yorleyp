{
 "cells": [
  {
   "cell_type": "code",
   "execution_count": 1,
   "metadata": {},
   "outputs": [],
   "source": [
    "%load_ext bigdata\n",
    "%hive_start\n",
    "%timeout 300"
   ]
  },
  {
   "cell_type": "code",
   "execution_count": 2,
   "metadata": {},
   "outputs": [
    {
     "name": "stdout",
     "output_type": "stream",
     "text": [
      "Deleted tmp\n"
     ]
    }
   ],
   "source": [
    "!hadoop fs -rm -f -r tmp;"
   ]
  },
  {
   "cell_type": "code",
   "execution_count": 3,
   "metadata": {},
   "outputs": [
    {
     "name": "stdout",
     "output_type": "stream",
     "text": [
      "DROP TABLE IF EXISTS data;\n",
      "OK\n",
      "Time taken: 12.833 seconds\n",
      "CREATE TABLE data (letra STRING,\n",
      "                   fecha STRING,\n",
      "                   num INT)\n",
      "ROW FORMAT DELIMITED\n",
      "FIELDS TERMINATED BY '\\t';\n",
      "OK\n",
      "Time taken: 1.081 seconds\n"
     ]
    }
   ],
   "source": [
    "%%hive\n",
    "DROP TABLE IF EXISTS data;\n",
    "CREATE TABLE data (letra STRING,\n",
    "                   fecha STRING,\n",
    "                   num INT)\n",
    "ROW FORMAT DELIMITED\n",
    "FIELDS TERMINATED BY '\\t';"
   ]
  },
  {
   "cell_type": "code",
   "execution_count": 4,
   "metadata": {},
   "outputs": [
    {
     "name": "stdout",
     "output_type": "stream",
     "text": [
      "LOAD DATA LOCAL INPATH \"data.tsv\" OVERWRITE INTO TABLE data;\n",
      "Loading data to table default.data\n",
      "OK\n",
      "Time taken: 1.564 seconds\n",
      "--SELECT * FROM data LIMIT 5;\n"
     ]
    }
   ],
   "source": [
    "%%hive\n",
    "LOAD DATA LOCAL INPATH \"data.tsv\" OVERWRITE INTO TABLE data;\n",
    "--SELECT * FROM data LIMIT 5;"
   ]
  },
  {
   "cell_type": "code",
   "execution_count": 5,
   "metadata": {},
   "outputs": [
    {
     "name": "stdout",
     "output_type": "stream",
     "text": [
      "DROP TABLE IF EXISTS salida;\n",
      "OK\n",
      "Time taken: 0.114 seconds\n",
      "CREATE TABLE salida\n",
      "AS\n",
      "    SELECT DISTINCT(num)\n",
      "    FROM\n",
      "        data\n",
      "ORDER BY num\n",
      "LIMIT 5;\n",
      "WARNING: Hive-on-MR is deprecated in Hive 2 and may not be available in the future versions. Consider using a different execution engine (i.e. spark, tez) or using Hive 1.X releases.\n",
      "Query ID = root_20200215222443_d81d0f64-15fd-48a5-b8e0-bfcf6185fe83\n",
      "Total jobs = 2\n",
      "Launching Job 1 out of 2\n",
      "Number of reduce tasks not specified. Estimated from input data size: 1\n",
      "In order to change the average load for a reducer (in bytes):\n",
      "  set hive.exec.reducers.bytes.per.reducer=<number>\n",
      "In order to limit the maximum number of reducers:\n",
      "  set hive.exec.reducers.max=<number>\n",
      "In order to set a constant number of reducers:\n",
      "  set mapreduce.job.reduces=<number>\n",
      "Starting Job = job_1581805131066_0003, Tracking URL = http://a941f0cb9236:8088/proxy/application_1581805131066_0003/\n",
      "Kill Command = /usr/local/hadoop/bin/hadoop job  -kill job_1581805131066_0003\n",
      "Hadoop job information for Stage-1: number of mappers: 1; number of reducers: 1\n",
      "2020-02-15 22:24:57,367 Stage-1 map = 0%,  reduce = 0%\n",
      "2020-02-15 22:25:03,130 Stage-1 map = 100%,  reduce = 0%, Cumulative CPU 1.71 sec\n",
      "2020-02-15 22:25:13,034 Stage-1 map = 100%,  reduce = 100%, Cumulative CPU 3.55 sec\n",
      "MapReduce Total cumulative CPU time: 3 seconds 550 msec\n",
      "Ended Job = job_1581805131066_0003\n",
      "Launching Job 2 out of 2\n",
      "Number of reduce tasks determined at compile time: 1\n",
      "In order to change the average load for a reducer (in bytes):\n",
      "  set hive.exec.reducers.bytes.per.reducer=<number>\n",
      "In order to limit the maximum number of reducers:\n",
      "  set hive.exec.reducers.max=<number>\n",
      "In order to set a constant number of reducers:\n",
      "  set mapreduce.job.reduces=<number>\n",
      "Starting Job = job_1581805131066_0004, Tracking URL = http://a941f0cb9236:8088/proxy/application_1581805131066_0004/\n",
      "Kill Command = /usr/local/hadoop/bin/hadoop job  -kill job_1581805131066_0004\n",
      "Hadoop job information for Stage-2: number of mappers: 1; number of reducers: 1\n",
      "2020-02-15 22:25:28,996 Stage-2 map = 0%,  reduce = 0%\n",
      "2020-02-15 22:25:35,608 Stage-2 map = 100%,  reduce = 0%, Cumulative CPU 1.66 sec\n",
      "2020-02-15 22:25:42,259 Stage-2 map = 100%,  reduce = 100%, Cumulative CPU 3.66 sec\n",
      "MapReduce Total cumulative CPU time: 3 seconds 660 msec\n",
      "Ended Job = job_1581805131066_0004\n",
      "Moving data to directory hdfs://0.0.0.0:9000/user/hive/warehouse/salida\n",
      "MapReduce Jobs Launched: \n",
      "Stage-Stage-1: Map: 1  Reduce: 1   Cumulative CPU: 3.55 sec   HDFS Read: 7313 HDFS Write: 186 SUCCESS\n",
      "Stage-Stage-2: Map: 1  Reduce: 1   Cumulative CPU: 3.66 sec   HDFS Read: 4821 HDFS Write: 82 SUCCESS\n",
      "Total MapReduce CPU Time Spent: 7 seconds 210 msec\n",
      "OK\n",
      "Time taken: 61.035 seconds\n",
      "--SELECT * \n",
      "--FROM salida \n",
      "--LIMIT 5;     \n"
     ]
    }
   ],
   "source": [
    "%%hive\n",
    "DROP TABLE IF EXISTS salida;\n",
    "CREATE TABLE salida\n",
    "AS\n",
    "    SELECT DISTINCT(num)\n",
    "    FROM\n",
    "        data\n",
    "ORDER BY num\n",
    "LIMIT 5;\n",
    "    \n",
    "--SELECT * \n",
    "--FROM salida \n",
    "--LIMIT 5;     "
   ]
  },
  {
   "cell_type": "code",
   "execution_count": 6,
   "metadata": {},
   "outputs": [
    {
     "name": "stdout",
     "output_type": "stream",
     "text": [
      "INSERT OVERWRITE DIRECTORY 'tmp/000000_0'\n",
      "ROW FORMAT DELIMITED FIELDS TERMINATED BY ','\n",
      "SELECT\n",
      "    *\n",
      "FROM\n",
      "    salida;\n",
      "WARNING: Hive-on-MR is deprecated in Hive 2 and may not be available in the future versions. Consider using a different execution engine (i.e. spark, tez) or using Hive 1.X releases.\n",
      "Query ID = root_20200215222544_4594dbc2-2415-4e88-aa77-e2bf292c0513\n",
      "Total jobs = 3\n",
      "Launching Job 1 out of 3\n",
      "Number of reduce tasks is set to 0 since there's no reduce operator\n",
      "Starting Job = job_1581805131066_0005, Tracking URL = http://a941f0cb9236:8088/proxy/application_1581805131066_0005/\n",
      "Kill Command = /usr/local/hadoop/bin/hadoop job  -kill job_1581805131066_0005\n",
      "Hadoop job information for Stage-1: number of mappers: 1; number of reducers: 0\n",
      "2020-02-15 22:25:56,839 Stage-1 map = 0%,  reduce = 0%\n",
      "2020-02-15 22:26:03,492 Stage-1 map = 100%,  reduce = 0%, Cumulative CPU 1.64 sec\n",
      "MapReduce Total cumulative CPU time: 1 seconds 640 msec\n",
      "Ended Job = job_1581805131066_0005\n",
      "Stage-3 is selected by condition resolver.\n",
      "Stage-2 is filtered out by condition resolver.\n",
      "Stage-4 is filtered out by condition resolver.\n",
      "Moving data to directory hdfs://0.0.0.0:9000/user/root/tmp/000000_0/.hive-staging_hive_2020-02-15_22-25-44_946_8687280466412463590-1/-ext-10000\n",
      "Moving data to directory tmp/000000_0\n",
      "MapReduce Jobs Launched: \n",
      "Stage-Stage-1: Map: 1   Cumulative CPU: 1.64 sec   HDFS Read: 3210 HDFS Write: 12 SUCCESS\n",
      "Total MapReduce CPU Time Spent: 1 seconds 640 msec\n",
      "OK\n",
      "Time taken: 19.702 seconds\n"
     ]
    }
   ],
   "source": [
    "%%hive\n",
    "INSERT OVERWRITE DIRECTORY 'tmp/000000_0'\n",
    "ROW FORMAT DELIMITED FIELDS TERMINATED BY ','\n",
    "SELECT\n",
    "    *\n",
    "FROM\n",
    "    salida;"
   ]
  },
  {
   "cell_type": "code",
   "execution_count": 7,
   "metadata": {},
   "outputs": [],
   "source": [
    "!hadoop fs -copyToLocal ./tmp/000000_0 output"
   ]
  },
  {
   "cell_type": "code",
   "execution_count": 8,
   "metadata": {},
   "outputs": [],
   "source": [
    "%hive_quit"
   ]
  },
  {
   "cell_type": "code",
   "execution_count": null,
   "metadata": {},
   "outputs": [],
   "source": []
  }
 ],
 "metadata": {
  "kernelspec": {
   "display_name": "Python 3",
   "language": "python",
   "name": "python3"
  },
  "language_info": {
   "codemirror_mode": {
    "name": "ipython",
    "version": 3
   },
   "file_extension": ".py",
   "mimetype": "text/x-python",
   "name": "python",
   "nbconvert_exporter": "python",
   "pygments_lexer": "ipython3",
   "version": "3.6.9"
  }
 },
 "nbformat": 4,
 "nbformat_minor": 4
}
