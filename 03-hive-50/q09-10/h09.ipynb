{
 "cells": [
  {
   "cell_type": "code",
   "execution_count": 1,
   "metadata": {},
   "outputs": [],
   "source": [
    "%load_ext bigdata\n",
    "%hive_start\n",
    "%timeout 300"
   ]
  },
  {
   "cell_type": "code",
   "execution_count": 2,
   "metadata": {},
   "outputs": [
    {
     "name": "stdout",
     "output_type": "stream",
     "text": [
      "Deleted tmp\n"
     ]
    }
   ],
   "source": [
    "!hadoop fs -rm -f -r tmp;"
   ]
  },
  {
   "cell_type": "code",
   "execution_count": 3,
   "metadata": {},
   "outputs": [
    {
     "name": "stdout",
     "output_type": "stream",
     "text": [
      "DROP TABLE IF EXISTS tbl0;\n",
      "OK\n",
      "Time taken: 9.32 seconds\n",
      "CREATE TABLE tbl0 (\n",
      "    c1 INT,\n",
      "    c2 STRING,\n",
      "    c3 INT,\n",
      "    c4 DATE,\n",
      "    c5 ARRAY<CHAR(1)>, \n",
      "    c6 MAP<STRING, INT>\n",
      ")\n",
      "ROW FORMAT DELIMITED \n",
      "FIELDS TERMINATED BY ','\n",
      "COLLECTION ITEMS TERMINATED BY ':'\n",
      "MAP KEYS TERMINATED BY '#'\n",
      "LINES TERMINATED BY '\\n';\n",
      "OK\n",
      "Time taken: 0.954 seconds\n"
     ]
    }
   ],
   "source": [
    "%%hive\n",
    "DROP TABLE IF EXISTS tbl0;\n",
    "CREATE TABLE tbl0 (\n",
    "    c1 INT,\n",
    "    c2 STRING,\n",
    "    c3 INT,\n",
    "    c4 DATE,\n",
    "    c5 ARRAY<CHAR(1)>, \n",
    "    c6 MAP<STRING, INT>\n",
    ")\n",
    "ROW FORMAT DELIMITED \n",
    "FIELDS TERMINATED BY ','\n",
    "COLLECTION ITEMS TERMINATED BY ':'\n",
    "MAP KEYS TERMINATED BY '#'\n",
    "LINES TERMINATED BY '\\n';"
   ]
  },
  {
   "cell_type": "code",
   "execution_count": 4,
   "metadata": {},
   "outputs": [
    {
     "name": "stdout",
     "output_type": "stream",
     "text": [
      "LOAD DATA LOCAL INPATH 'tbl0.csv' INTO TABLE tbl0;\n",
      "Loading data to table default.tbl0\n",
      "OK\n",
      "Time taken: 1.173 seconds\n"
     ]
    }
   ],
   "source": [
    "%%hive\n",
    "LOAD DATA LOCAL INPATH 'tbl0.csv' INTO TABLE tbl0;"
   ]
  },
  {
   "cell_type": "code",
   "execution_count": 5,
   "metadata": {},
   "outputs": [
    {
     "name": "stdout",
     "output_type": "stream",
     "text": [
      "DROP TABLE IF EXISTS tbl1;\n",
      "OK\n",
      "Time taken: 0.059 seconds\n",
      "CREATE TABLE tbl1 (\n",
      "    c1 INT,\n",
      "    c2 INT,\n",
      "    c3 STRING,\n",
      "    c4 MAP<STRING, INT>\n",
      ")\n",
      "ROW FORMAT DELIMITED \n",
      "FIELDS TERMINATED BY ','\n",
      "COLLECTION ITEMS TERMINATED BY ':'\n",
      "MAP KEYS TERMINATED BY '#'\n",
      "LINES TERMINATED BY '\\n';\n",
      "OK\n",
      "Time taken: 0.066 seconds\n"
     ]
    }
   ],
   "source": [
    "%%hive\n",
    "DROP TABLE IF EXISTS tbl1;\n",
    "CREATE TABLE tbl1 (\n",
    "    c1 INT,\n",
    "    c2 INT,\n",
    "    c3 STRING,\n",
    "    c4 MAP<STRING, INT>\n",
    ")\n",
    "ROW FORMAT DELIMITED \n",
    "FIELDS TERMINATED BY ','\n",
    "COLLECTION ITEMS TERMINATED BY ':'\n",
    "MAP KEYS TERMINATED BY '#'\n",
    "LINES TERMINATED BY '\\n';"
   ]
  },
  {
   "cell_type": "code",
   "execution_count": 6,
   "metadata": {},
   "outputs": [
    {
     "name": "stdout",
     "output_type": "stream",
     "text": [
      "LOAD DATA LOCAL INPATH 'tbl1.csv' INTO TABLE tbl1;\n",
      "Loading data to table default.tbl1\n",
      "OK\n",
      "Time taken: 0.766 seconds\n"
     ]
    }
   ],
   "source": [
    "%%hive\n",
    "LOAD DATA LOCAL INPATH 'tbl1.csv' INTO TABLE tbl1;"
   ]
  },
  {
   "cell_type": "code",
   "execution_count": 10,
   "metadata": {},
   "outputs": [
    {
     "name": "stdout",
     "output_type": "stream",
     "text": [
      "DROP TABLE IF EXISTS salida;\n",
      "OK\n",
      "Time taken: 0.302 seconds\n",
      "CREATE TABLE salida\n",
      "AS\n",
      "    SELECT\n",
      "        concat(tbl0.c1,',',\n",
      "        tbl0.c2,',',\n",
      "        tbl1.c4[tbl0.c2])\n",
      "    FROM\n",
      "        tbl0\n",
      "    JOIN (\n",
      "        SELECT\n",
      "            c1,\n",
      "            c4\n",
      "        FROM\n",
      "            tbl1\n",
      "        ) tbl1\n",
      "    ON\n",
      "        (tbl0.c1 = tbl1.c1);\n",
      "WARNING: Hive-on-MR is deprecated in Hive 2 and may not be available in the future versions. Consider using a different execution engine (i.e. spark, tez) or using Hive 1.X releases.\n",
      "Query ID = root_20200120001402_2e972e2f-104a-4848-a655-c16d70215453\n",
      "Total jobs = 1\n",
      "SLF4J: Class path contains multiple SLF4J bindings.\n",
      "SLF4J: Found binding in [jar:file:/usr/local/hive/lib/log4j-slf4j-impl-2.6.2.jar!/org/slf4j/impl/StaticLoggerBinder.class]\n",
      "SLF4J: Found binding in [jar:file:/usr/local/hadoop/share/hadoop/common/lib/slf4j-log4j12-1.7.10.jar!/org/slf4j/impl/StaticLoggerBinder.class]\n",
      "SLF4J: See http://www.slf4j.org/codes.html#multiple_bindings for an explanation.\n",
      "SLF4J: Actual binding is of type [org.apache.logging.slf4j.Log4jLoggerFactory]\n",
      "2020-01-20 00:14:09\tStarting to launch local task to process map join;\tmaximum memory = 477626368\n",
      "2020-01-20 00:14:11\tDump the side-table for tag: 1 with group count: 10 into file: file:/tmp/root/44bcb995-9282-4f23-bd49-77b4ea34a2a4/hive_2020-01-20_00-14-02_068_1331169705343550230-1/-local-10004/HashTable-Stage-4/MapJoin-mapfile11--.hashtable\n",
      "2020-01-20 00:14:12\tUploaded 1 File to: file:/tmp/root/44bcb995-9282-4f23-bd49-77b4ea34a2a4/hive_2020-01-20_00-14-02_068_1331169705343550230-1/-local-10004/HashTable-Stage-4/MapJoin-mapfile11--.hashtable (673 bytes)\n",
      "2020-01-20 00:14:12\tEnd of local task; Time Taken: 2.353 sec.\n",
      "Execution completed successfully\n",
      "MapredLocal task succeeded\n",
      "Launching Job 1 out of 1\n",
      "Number of reduce tasks is set to 0 since there's no reduce operator\n",
      "Starting Job = job_1579469532371_0009, Tracking URL = http://92c98434d4d4:8088/proxy/application_1579469532371_0009/\n",
      "Kill Command = /usr/local/hadoop/bin/hadoop job  -kill job_1579469532371_0009\n",
      "Hadoop job information for Stage-4: number of mappers: 1; number of reducers: 0\n",
      "2020-01-20 00:14:21,495 Stage-4 map = 0%,  reduce = 0%\n",
      "2020-01-20 00:14:27,043 Stage-4 map = 100%,  reduce = 0%, Cumulative CPU 2.09 sec\n",
      "MapReduce Total cumulative CPU time: 2 seconds 90 msec\n",
      "Ended Job = job_1579469532371_0009\n",
      "Moving data to directory hdfs://0.0.0.0:9000/user/hive/warehouse/salida\n",
      "MapReduce Jobs Launched: \n",
      "Stage-Stage-4: Map: 1   Cumulative CPU: 2.09 sec   HDFS Read: 7252 HDFS Write: 131 SUCCESS\n",
      "Total MapReduce CPU Time Spent: 2 seconds 90 msec\n",
      "OK\n",
      "Time taken: 26.76 seconds\n"
     ]
    }
   ],
   "source": [
    "%%hive\n",
    "DROP TABLE IF EXISTS salida;\n",
    "CREATE TABLE salida\n",
    "AS\n",
    "    SELECT\n",
    "        concat(tbl0.c1,',',\n",
    "        tbl0.c2,',',\n",
    "        tbl1.c4[tbl0.c2])\n",
    "    FROM\n",
    "        tbl0\n",
    "    JOIN (\n",
    "        SELECT\n",
    "            c1,\n",
    "            c4\n",
    "        FROM\n",
    "            tbl1\n",
    "        ) tbl1\n",
    "    ON\n",
    "        (tbl0.c1 = tbl1.c1);"
   ]
  },
  {
   "cell_type": "code",
   "execution_count": 11,
   "metadata": {},
   "outputs": [
    {
     "name": "stdout",
     "output_type": "stream",
     "text": [
      "--SELECT * \n",
      "--FROM salida;\n"
     ]
    }
   ],
   "source": [
    "%%hive\n",
    "--SELECT * \n",
    "--FROM salida;"
   ]
  },
  {
   "cell_type": "code",
   "execution_count": 12,
   "metadata": {},
   "outputs": [
    {
     "name": "stdout",
     "output_type": "stream",
     "text": [
      "INSERT OVERWRITE DIRECTORY 'tmp/000000_0'\n",
      "ROW FORMAT DELIMITED FIELDS TERMINATED BY ','\n",
      "SELECT\n",
      "    *\n",
      "FROM\n",
      "    salida;\n",
      "WARNING: Hive-on-MR is deprecated in Hive 2 and may not be available in the future versions. Consider using a different execution engine (i.e. spark, tez) or using Hive 1.X releases.\n",
      "Query ID = root_20200120001507_0986ba58-e0c3-491d-aa64-ea23b3cca83d\n",
      "Total jobs = 3\n",
      "Launching Job 1 out of 3\n",
      "Number of reduce tasks is set to 0 since there's no reduce operator\n",
      "Starting Job = job_1579469532371_0010, Tracking URL = http://92c98434d4d4:8088/proxy/application_1579469532371_0010/\n",
      "Kill Command = /usr/local/hadoop/bin/hadoop job  -kill job_1579469532371_0010\n",
      "Hadoop job information for Stage-1: number of mappers: 1; number of reducers: 0\n",
      "2020-01-20 00:15:14,943 Stage-1 map = 0%,  reduce = 0%\n",
      "2020-01-20 00:15:19,318 Stage-1 map = 100%,  reduce = 0%, Cumulative CPU 1.16 sec\n",
      "MapReduce Total cumulative CPU time: 1 seconds 160 msec\n",
      "Ended Job = job_1579469532371_0010\n",
      "Stage-3 is selected by condition resolver.\n",
      "Stage-2 is filtered out by condition resolver.\n",
      "Stage-4 is filtered out by condition resolver.\n",
      "Moving data to directory hdfs://0.0.0.0:9000/user/root/tmp/000000_0/.hive-staging_hive_2020-01-20_00-15-07_550_1537916691797965294-1/-ext-10000\n",
      "Moving data to directory tmp/000000_0\n",
      "MapReduce Jobs Launched: \n",
      "Stage-Stage-1: Map: 1   Cumulative CPU: 1.16 sec   HDFS Read: 3265 HDFS Write: 61 SUCCESS\n",
      "Total MapReduce CPU Time Spent: 1 seconds 160 msec\n",
      "OK\n",
      "Time taken: 12.934 seconds\n"
     ]
    }
   ],
   "source": [
    "%%hive\n",
    "INSERT OVERWRITE DIRECTORY 'tmp/000000_0'\n",
    "ROW FORMAT DELIMITED FIELDS TERMINATED BY ','\n",
    "SELECT\n",
    "    *\n",
    "FROM\n",
    "    salida;"
   ]
  },
  {
   "cell_type": "code",
   "execution_count": 13,
   "metadata": {},
   "outputs": [],
   "source": [
    "!hadoop fs -copyToLocal ./tmp/000000_0 output"
   ]
  },
  {
   "cell_type": "code",
   "execution_count": 14,
   "metadata": {},
   "outputs": [],
   "source": [
    "%hive_quit"
   ]
  },
  {
   "cell_type": "code",
   "execution_count": null,
   "metadata": {},
   "outputs": [],
   "source": [
    "   "
   ]
  }
 ],
 "metadata": {
  "kernelspec": {
   "display_name": "Python 3",
   "language": "python",
   "name": "python3"
  },
  "language_info": {
   "codemirror_mode": {
    "name": "ipython",
    "version": 3
   },
   "file_extension": ".py",
   "mimetype": "text/x-python",
   "name": "python",
   "nbconvert_exporter": "python",
   "pygments_lexer": "ipython3",
   "version": "3.6.9"
  }
 },
 "nbformat": 4,
 "nbformat_minor": 4
}
