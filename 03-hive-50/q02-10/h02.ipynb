{
 "cells": [
  {
   "cell_type": "code",
   "execution_count": 1,
   "metadata": {},
   "outputs": [],
   "source": [
    "%load_ext bigdata\n",
    "%hive_start\n",
    "%timeout 300"
   ]
  },
  {
   "cell_type": "code",
   "execution_count": 2,
   "metadata": {},
   "outputs": [
    {
     "name": "stdout",
     "output_type": "stream",
     "text": [
      "Deleted tmp\n"
     ]
    }
   ],
   "source": [
    "!hadoop fs -rm -f -r tmp;"
   ]
  },
  {
   "cell_type": "code",
   "execution_count": 3,
   "metadata": {},
   "outputs": [
    {
     "name": "stdout",
     "output_type": "stream",
     "text": [
      "DROP TABLE IF EXISTS data;\n",
      "OK\n",
      "Time taken: 21.743 seconds\n",
      "CREATE TABLE data (letra STRING,\n",
      "                   fecha STRING,\n",
      "                   num INT)\n",
      "ROW FORMAT DELIMITED\n",
      "FIELDS TERMINATED BY '\\t';\n",
      "OK\n",
      "Time taken: 1.661 seconds\n"
     ]
    }
   ],
   "source": [
    "%%hive\n",
    "DROP TABLE IF EXISTS data;\n",
    "CREATE TABLE data (letra STRING,\n",
    "                   fecha STRING,\n",
    "                   num INT)\n",
    "ROW FORMAT DELIMITED\n",
    "FIELDS TERMINATED BY '\\t';"
   ]
  },
  {
   "cell_type": "code",
   "execution_count": 4,
   "metadata": {},
   "outputs": [
    {
     "name": "stdout",
     "output_type": "stream",
     "text": [
      "LOAD DATA LOCAL INPATH \"data.tsv\" OVERWRITE INTO TABLE data;\n",
      "Loading data to table default.data\n",
      "OK\n",
      "Time taken: 2.048 seconds\n",
      "--SELECT * FROM data LIMIT 5;\n"
     ]
    }
   ],
   "source": [
    "%%hive\n",
    "LOAD DATA LOCAL INPATH \"data.tsv\" OVERWRITE INTO TABLE data;\n",
    "--SELECT * FROM data LIMIT 5;"
   ]
  },
  {
   "cell_type": "code",
   "execution_count": 5,
   "metadata": {},
   "outputs": [
    {
     "name": "stdout",
     "output_type": "stream",
     "text": [
      "DROP TABLE IF EXISTS salida;\n",
      "OK\n",
      "Time taken: 0.207 seconds\n",
      "CREATE TABLE salida\n",
      "AS\n",
      "    SELECT *\n",
      "    FROM\n",
      "        data\n",
      "ORDER BY\n",
      "    letra, num;\n",
      "WARNING: Hive-on-MR is deprecated in Hive 2 and may not be available in the future versions. Consider using a different execution engine (i.e. spark, tez) or using Hive 1.X releases.\n",
      "Query ID = root_20200216003939_e11398e8-99c3-48d4-bfc9-ad270d3f2993\n",
      "Total jobs = 1\n",
      "Launching Job 1 out of 1\n",
      "Number of reduce tasks determined at compile time: 1\n",
      "In order to change the average load for a reducer (in bytes):\n",
      "  set hive.exec.reducers.bytes.per.reducer=<number>\n",
      "In order to limit the maximum number of reducers:\n",
      "  set hive.exec.reducers.max=<number>\n",
      "In order to set a constant number of reducers:\n",
      "  set mapreduce.job.reduces=<number>\n",
      "Starting Job = job_1581813162820_0003, Tracking URL = http://a50a9b7ab307:8088/proxy/application_1581813162820_0003/\n",
      "Kill Command = /usr/local/hadoop/bin/hadoop job  -kill job_1581813162820_0003\n",
      "Hadoop job information for Stage-1: number of mappers: 1; number of reducers: 1\n",
      "2020-02-16 00:40:00,284 Stage-1 map = 0%,  reduce = 0%\n",
      "2020-02-16 00:40:08,575 Stage-1 map = 100%,  reduce = 0%, Cumulative CPU 1.79 sec\n",
      "2020-02-16 00:40:18,059 Stage-1 map = 100%,  reduce = 100%, Cumulative CPU 4.58 sec\n",
      "MapReduce Total cumulative CPU time: 4 seconds 580 msec\n",
      "Ended Job = job_1581813162820_0003\n",
      "Moving data to directory hdfs://0.0.0.0:9000/user/hive/warehouse/salida\n",
      "MapReduce Jobs Launched: \n",
      "Stage-Stage-1: Map: 1  Reduce: 1   Cumulative CPU: 4.58 sec   HDFS Read: 7773 HDFS Write: 708 SUCCESS\n",
      "Total MapReduce CPU Time Spent: 4 seconds 580 msec\n",
      "OK\n",
      "Time taken: 42.206 seconds\n",
      "--SELECT * \n",
      "--FROM salida \n",
      "--LIMIT 5;     \n"
     ]
    }
   ],
   "source": [
    "%%hive\n",
    "DROP TABLE IF EXISTS salida;\n",
    "CREATE TABLE salida\n",
    "AS\n",
    "    SELECT *\n",
    "    FROM\n",
    "        data\n",
    "ORDER BY\n",
    "    letra, num;\n",
    "    \n",
    "--SELECT * \n",
    "--FROM salida \n",
    "--LIMIT 5;     "
   ]
  },
  {
   "cell_type": "code",
   "execution_count": 6,
   "metadata": {},
   "outputs": [
    {
     "name": "stdout",
     "output_type": "stream",
     "text": [
      "INSERT OVERWRITE LOCAL DIRECTORY 'output'\n",
      "ROW FORMAT DELIMITED FIELDS TERMINATED BY ','\n",
      "SELECT\n",
      "    *\n",
      "FROM\n",
      "    salida;\n",
      "WARNING: Hive-on-MR is deprecated in Hive 2 and may not be available in the future versions. Consider using a different execution engine (i.e. spark, tez) or using Hive 1.X releases.\n",
      "Query ID = root_20200216004022_9f55e647-d3b1-45b0-85b3-3c6533a636f3\n",
      "Total jobs = 1\n",
      "Launching Job 1 out of 1\n",
      "Number of reduce tasks is set to 0 since there's no reduce operator\n",
      "Starting Job = job_1581813162820_0004, Tracking URL = http://a50a9b7ab307:8088/proxy/application_1581813162820_0004/\n",
      "Kill Command = /usr/local/hadoop/bin/hadoop job  -kill job_1581813162820_0004\n",
      "Hadoop job information for Stage-1: number of mappers: 1; number of reducers: 0\n",
      "2020-02-16 00:40:35,044 Stage-1 map = 0%,  reduce = 0%\n",
      "2020-02-16 00:40:45,494 Stage-1 map = 100%,  reduce = 0%, Cumulative CPU 2.39 sec\n",
      "MapReduce Total cumulative CPU time: 2 seconds 390 msec\n",
      "Ended Job = job_1581813162820_0004\n",
      "Moving data to local directory output\n",
      "MapReduce Jobs Launched: \n",
      "Stage-Stage-1: Map: 1   Cumulative CPU: 2.39 sec   HDFS Read: 4152 HDFS Write: 637 SUCCESS\n",
      "Total MapReduce CPU Time Spent: 2 seconds 390 msec\n",
      "OK\n",
      "Time taken: 24.5 seconds\n"
     ]
    }
   ],
   "source": [
    "%%hive\n",
    "INSERT OVERWRITE LOCAL DIRECTORY 'output'\n",
    "ROW FORMAT DELIMITED FIELDS TERMINATED BY ','\n",
    "SELECT\n",
    "    *\n",
    "FROM\n",
    "    salida;"
   ]
  },
  {
   "cell_type": "code",
   "execution_count": 7,
   "metadata": {},
   "outputs": [],
   "source": [
    "#!hadoop fs -copyToLocal ./tmp/000000_0 output"
   ]
  },
  {
   "cell_type": "code",
   "execution_count": 8,
   "metadata": {},
   "outputs": [],
   "source": [
    "%hive_quit"
   ]
  },
  {
   "cell_type": "code",
   "execution_count": null,
   "metadata": {},
   "outputs": [],
   "source": []
  }
 ],
 "metadata": {
  "kernelspec": {
   "display_name": "Python 3",
   "language": "python",
   "name": "python3"
  },
  "language_info": {
   "codemirror_mode": {
    "name": "ipython",
    "version": 3
   },
   "file_extension": ".py",
   "mimetype": "text/x-python",
   "name": "python",
   "nbconvert_exporter": "python",
   "pygments_lexer": "ipython3",
   "version": "3.6.9"
  }
 },
 "nbformat": 4,
 "nbformat_minor": 4
}
