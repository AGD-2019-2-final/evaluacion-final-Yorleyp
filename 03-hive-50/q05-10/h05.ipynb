{
 "cells": [
  {
   "cell_type": "code",
   "execution_count": 1,
   "metadata": {},
   "outputs": [],
   "source": [
    "%load_ext bigdata\n",
    "%hive_start\n",
    "%timeout 300"
   ]
  },
  {
   "cell_type": "code",
   "execution_count": 2,
   "metadata": {},
   "outputs": [
    {
     "name": "stdout",
     "output_type": "stream",
     "text": [
      "Deleted tmp\n"
     ]
    }
   ],
   "source": [
    "!hadoop fs -rm -f -r tmp;"
   ]
  },
  {
   "cell_type": "code",
   "execution_count": 3,
   "metadata": {},
   "outputs": [
    {
     "name": "stdout",
     "output_type": "stream",
     "text": [
      "DROP TABLE IF EXISTS tbl0;\n",
      "OK\n",
      "Time taken: 12.244 seconds\n",
      "CREATE TABLE tbl0 (\n",
      "    c1 INT,\n",
      "    c2 STRING,\n",
      "    c3 INT,\n",
      "    c4 DATE,\n",
      "    c5 ARRAY<CHAR(1)>, \n",
      "    c6 MAP<STRING, INT>\n",
      ")\n",
      "ROW FORMAT DELIMITED \n",
      "FIELDS TERMINATED BY ','\n",
      "COLLECTION ITEMS TERMINATED BY ':'\n",
      "MAP KEYS TERMINATED BY '#'\n",
      "LINES TERMINATED BY '\\n';\n",
      "OK\n",
      "Time taken: 0.857 seconds\n"
     ]
    }
   ],
   "source": [
    "%%hive\n",
    "DROP TABLE IF EXISTS tbl0;\n",
    "CREATE TABLE tbl0 (\n",
    "    c1 INT,\n",
    "    c2 STRING,\n",
    "    c3 INT,\n",
    "    c4 DATE,\n",
    "    c5 ARRAY<CHAR(1)>, \n",
    "    c6 MAP<STRING, INT>\n",
    ")\n",
    "ROW FORMAT DELIMITED \n",
    "FIELDS TERMINATED BY ','\n",
    "COLLECTION ITEMS TERMINATED BY ':'\n",
    "MAP KEYS TERMINATED BY '#'\n",
    "LINES TERMINATED BY '\\n';"
   ]
  },
  {
   "cell_type": "code",
   "execution_count": 4,
   "metadata": {},
   "outputs": [
    {
     "name": "stdout",
     "output_type": "stream",
     "text": [
      "LOAD DATA LOCAL INPATH 'tbl0.csv' INTO TABLE tbl0;\n",
      "Loading data to table default.tbl0\n",
      "OK\n",
      "Time taken: 1.411 seconds\n"
     ]
    }
   ],
   "source": [
    "%%hive\n",
    "LOAD DATA LOCAL INPATH 'tbl0.csv' INTO TABLE tbl0;"
   ]
  },
  {
   "cell_type": "code",
   "execution_count": 9,
   "metadata": {},
   "outputs": [
    {
     "name": "stdout",
     "output_type": "stream",
     "text": [
      "DROP TABLE IF EXISTS salida;\n",
      "OK\n",
      "Time taken: 0.16 seconds\n",
      "CREATE TABLE salida\n",
      "AS\n",
      "    SELECT t0.ano, t0.letra, count(*) AS conteo\n",
      "    FROM\n",
      "        (\n",
      "        SELECT YEAR(c4) AS ano, letra\n",
      "        FROM \n",
      "            tbl0 \n",
      "            LATERAL VIEW \n",
      "                explode(c5) tbl0 AS letra\n",
      "        ORDER BY\n",
      "            ano, letra) t0\n",
      "    GROUP BY \n",
      "        t0.ano, t0.letra\n",
      "    ORDER BY \n",
      "        t0.ano, t0.letra;     \n",
      "WARNING: Hive-on-MR is deprecated in Hive 2 and may not be available in the future versions. Consider using a different execution engine (i.e. spark, tez) or using Hive 1.X releases.\n",
      "Query ID = root_20200112200724_d2d9531d-d72e-4f07-ac92-d40441c9209b\n",
      "Total jobs = 2\n",
      "Launching Job 1 out of 2\n",
      "Number of reduce tasks determined at compile time: 1\n",
      "In order to change the average load for a reducer (in bytes):\n",
      "  set hive.exec.reducers.bytes.per.reducer=<number>\n",
      "In order to limit the maximum number of reducers:\n",
      "  set hive.exec.reducers.max=<number>\n",
      "In order to set a constant number of reducers:\n",
      "  set mapreduce.job.reduces=<number>\n",
      "Starting Job = job_1578847302203_0019, Tracking URL = http://ae3ea49e5722:8088/proxy/application_1578847302203_0019/\n",
      "Kill Command = /usr/local/hadoop/bin/hadoop job  -kill job_1578847302203_0019\n",
      "Hadoop job information for Stage-1: number of mappers: 1; number of reducers: 1\n",
      "2020-01-12 20:07:36,504 Stage-1 map = 0%,  reduce = 0%\n",
      "2020-01-12 20:07:46,071 Stage-1 map = 100%,  reduce = 0%, Cumulative CPU 2.0 sec\n",
      "2020-01-12 20:08:02,264 Stage-1 map = 100%,  reduce = 100%, Cumulative CPU 3.58 sec\n",
      "MapReduce Total cumulative CPU time: 3 seconds 580 msec\n",
      "Ended Job = job_1578847302203_0019\n",
      "Launching Job 2 out of 2\n",
      "Number of reduce tasks determined at compile time: 1\n",
      "In order to change the average load for a reducer (in bytes):\n",
      "  set hive.exec.reducers.bytes.per.reducer=<number>\n",
      "In order to limit the maximum number of reducers:\n",
      "  set hive.exec.reducers.max=<number>\n",
      "In order to set a constant number of reducers:\n",
      "  set mapreduce.job.reduces=<number>\n",
      "Starting Job = job_1578847302203_0020, Tracking URL = http://ae3ea49e5722:8088/proxy/application_1578847302203_0020/\n",
      "Kill Command = /usr/local/hadoop/bin/hadoop job  -kill job_1578847302203_0020\n",
      "Hadoop job information for Stage-2: number of mappers: 1; number of reducers: 1\n",
      "2020-01-12 20:08:17,085 Stage-2 map = 0%,  reduce = 0%\n",
      "2020-01-12 20:08:25,374 Stage-2 map = 100%,  reduce = 0%, Cumulative CPU 1.52 sec\n",
      "2020-01-12 20:08:41,731 Stage-2 map = 100%,  reduce = 100%, Cumulative CPU 3.49 sec\n",
      "MapReduce Total cumulative CPU time: 3 seconds 490 msec\n",
      "Ended Job = job_1578847302203_0020\n",
      "Moving data to directory hdfs://0.0.0.0:9000/user/hive/warehouse/salida\n",
      "MapReduce Jobs Launched: \n",
      "Stage-Stage-1: Map: 1  Reduce: 1   Cumulative CPU: 3.58 sec   HDFS Read: 11784 HDFS Write: 556 SUCCESS\n",
      "Stage-Stage-2: Map: 1  Reduce: 1   Cumulative CPU: 3.49 sec   HDFS Read: 6383 HDFS Write: 251 SUCCESS\n",
      "Total MapReduce CPU Time Spent: 7 seconds 70 msec\n",
      "OK\n",
      "Time taken: 78.724 seconds\n",
      "--SELECT * \n",
      "--FROM salida; \n",
      "--LIMIT 5;     \n"
     ]
    }
   ],
   "source": [
    "%%hive\n",
    "DROP TABLE IF EXISTS salida;\n",
    "CREATE TABLE salida\n",
    "AS\n",
    "    SELECT t0.ano, t0.letra, count(*) AS conteo\n",
    "    FROM\n",
    "        (\n",
    "        SELECT YEAR(c4) AS ano, letra\n",
    "        FROM \n",
    "            tbl0 \n",
    "            LATERAL VIEW \n",
    "                explode(c5) tbl0 AS letra\n",
    "        ORDER BY\n",
    "            ano, letra) t0\n",
    "    GROUP BY \n",
    "        t0.ano, t0.letra\n",
    "    ORDER BY \n",
    "        t0.ano, t0.letra;     \n",
    "--SELECT * \n",
    "--FROM salida; \n",
    "--LIMIT 5;     "
   ]
  },
  {
   "cell_type": "code",
   "execution_count": 10,
   "metadata": {},
   "outputs": [
    {
     "name": "stdout",
     "output_type": "stream",
     "text": [
      "INSERT OVERWRITE DIRECTORY 'tmp/000000_0'\n",
      "ROW FORMAT DELIMITED FIELDS TERMINATED BY ','\n",
      "SELECT\n",
      "    *\n",
      "FROM\n",
      "    salida;\n",
      "WARNING: Hive-on-MR is deprecated in Hive 2 and may not be available in the future versions. Consider using a different execution engine (i.e. spark, tez) or using Hive 1.X releases.\n",
      "Query ID = root_20200112200844_3f6374fb-4c5d-4f41-934b-1159e5592f4e\n",
      "Total jobs = 3\n",
      "Launching Job 1 out of 3\n",
      "Number of reduce tasks is set to 0 since there's no reduce operator\n",
      "Starting Job = job_1578847302203_0021, Tracking URL = http://ae3ea49e5722:8088/proxy/application_1578847302203_0021/\n",
      "Kill Command = /usr/local/hadoop/bin/hadoop job  -kill job_1578847302203_0021\n",
      "Hadoop job information for Stage-1: number of mappers: 1; number of reducers: 0\n",
      "2020-01-12 20:08:56,826 Stage-1 map = 0%,  reduce = 0%\n",
      "2020-01-12 20:09:05,028 Stage-1 map = 100%,  reduce = 0%, Cumulative CPU 2.13 sec\n",
      "MapReduce Total cumulative CPU time: 2 seconds 130 msec\n",
      "Ended Job = job_1578847302203_0021\n",
      "Stage-3 is selected by condition resolver.\n",
      "Stage-2 is filtered out by condition resolver.\n",
      "Stage-4 is filtered out by condition resolver.\n",
      "Moving data to directory hdfs://0.0.0.0:9000/user/root/tmp/000000_0/.hive-staging_hive_2020-01-12_20-08-44_184_5219698073695290305-1/-ext-10000\n",
      "Moving data to directory tmp/000000_0\n",
      "MapReduce Jobs Launched: \n",
      "Stage-Stage-1: Map: 1   Cumulative CPU: 2.13 sec   HDFS Read: 3841 HDFS Write: 180 SUCCESS\n",
      "Total MapReduce CPU Time Spent: 2 seconds 130 msec\n",
      "OK\n",
      "Time taken: 24.25 seconds\n"
     ]
    }
   ],
   "source": [
    "%%hive\n",
    "INSERT OVERWRITE DIRECTORY 'tmp/000000_0'\n",
    "ROW FORMAT DELIMITED FIELDS TERMINATED BY ','\n",
    "SELECT\n",
    "    *\n",
    "FROM\n",
    "    salida;"
   ]
  },
  {
   "cell_type": "code",
   "execution_count": 11,
   "metadata": {},
   "outputs": [],
   "source": [
    "!hadoop fs -copyToLocal ./tmp/000000_0 output"
   ]
  },
  {
   "cell_type": "code",
   "execution_count": 12,
   "metadata": {},
   "outputs": [],
   "source": [
    "%hive_quit"
   ]
  },
  {
   "cell_type": "code",
   "execution_count": null,
   "metadata": {},
   "outputs": [],
   "source": []
  },
  {
   "cell_type": "code",
   "execution_count": null,
   "metadata": {},
   "outputs": [],
   "source": []
  }
 ],
 "metadata": {
  "kernelspec": {
   "display_name": "Python 3",
   "language": "python",
   "name": "python3"
  },
  "language_info": {
   "codemirror_mode": {
    "name": "ipython",
    "version": 3
   },
   "file_extension": ".py",
   "mimetype": "text/x-python",
   "name": "python",
   "nbconvert_exporter": "python",
   "pygments_lexer": "ipython3",
   "version": "3.6.9"
  }
 },
 "nbformat": 4,
 "nbformat_minor": 4
}
