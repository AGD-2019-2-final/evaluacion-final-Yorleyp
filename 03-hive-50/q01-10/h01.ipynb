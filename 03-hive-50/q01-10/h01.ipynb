{
 "cells": [
  {
   "cell_type": "code",
   "execution_count": 1,
   "metadata": {},
   "outputs": [],
   "source": [
    "%load_ext bigdata\n",
    "%hive_start\n",
    "%timeout 300"
   ]
  },
  {
   "cell_type": "code",
   "execution_count": 2,
   "metadata": {},
   "outputs": [
    {
     "name": "stdout",
     "output_type": "stream",
     "text": [
      "Deleted output\n"
     ]
    }
   ],
   "source": [
    "!hadoop fs -rm -f -r tmp;"
   ]
  },
  {
   "cell_type": "code",
   "execution_count": 3,
   "metadata": {},
   "outputs": [
    {
     "name": "stdout",
     "output_type": "stream",
     "text": [
      "DROP TABLE IF EXISTS data;\n",
      "OK\n",
      "Time taken: 13.913 seconds\n",
      "CREATE TABLE data (letra STRING,\n",
      "                   fecha STRING,\n",
      "                   num INT)\n",
      "ROW FORMAT DELIMITED\n",
      "FIELDS TERMINATED BY '\\t';\n",
      "OK\n",
      "Time taken: 1.031 seconds\n"
     ]
    }
   ],
   "source": [
    "%%hive\n",
    "DROP TABLE IF EXISTS data;\n",
    "CREATE TABLE data (letra STRING,\n",
    "                   fecha STRING,\n",
    "                   num INT)\n",
    "ROW FORMAT DELIMITED\n",
    "FIELDS TERMINATED BY '\\t';"
   ]
  },
  {
   "cell_type": "code",
   "execution_count": 4,
   "metadata": {},
   "outputs": [
    {
     "name": "stdout",
     "output_type": "stream",
     "text": [
      "LOAD DATA LOCAL INPATH \"data.tsv\" OVERWRITE INTO TABLE data;\n",
      "Loading data to table default.data\n",
      "OK\n",
      "Time taken: 1.351 seconds\n",
      "--SELECT * FROM data LIMIT 5;\n"
     ]
    }
   ],
   "source": [
    "%%hive\n",
    "LOAD DATA LOCAL INPATH \"data.tsv\" OVERWRITE INTO TABLE data;\n",
    "--SELECT * FROM data LIMIT 5;"
   ]
  },
  {
   "cell_type": "code",
   "execution_count": 5,
   "metadata": {},
   "outputs": [
    {
     "name": "stdout",
     "output_type": "stream",
     "text": [
      "DROP TABLE IF EXISTS salida;\n",
      "OK\n",
      "Time taken: 0.149 seconds\n",
      "CREATE TABLE salida\n",
      "AS\n",
      "    SELECT letra, count(1) AS cuenta\n",
      "    FROM\n",
      "        data\n",
      "GROUP BY\n",
      "    letra\n",
      "ORDER BY\n",
      "    letra;\n",
      "WARNING: Hive-on-MR is deprecated in Hive 2 and may not be available in the future versions. Consider using a different execution engine (i.e. spark, tez) or using Hive 1.X releases.\n",
      "Query ID = root_20200112002056_f7596090-0f9b-403b-84fc-031185716960\n",
      "Total jobs = 2\n",
      "Launching Job 1 out of 2\n",
      "Number of reduce tasks not specified. Estimated from input data size: 1\n",
      "In order to change the average load for a reducer (in bytes):\n",
      "  set hive.exec.reducers.bytes.per.reducer=<number>\n",
      "In order to limit the maximum number of reducers:\n",
      "  set hive.exec.reducers.max=<number>\n",
      "In order to set a constant number of reducers:\n",
      "  set mapreduce.job.reduces=<number>\n",
      "Starting Job = job_1578776258951_0009, Tracking URL = http://e19ecdc0743b:8088/proxy/application_1578776258951_0009/\n",
      "Kill Command = /usr/local/hadoop/bin/hadoop job  -kill job_1578776258951_0009\n",
      "Hadoop job information for Stage-1: number of mappers: 1; number of reducers: 1\n",
      "2020-01-12 00:21:08,238 Stage-1 map = 0%,  reduce = 0%\n",
      "2020-01-12 00:21:16,484 Stage-1 map = 100%,  reduce = 0%, Cumulative CPU 2.21 sec\n",
      "2020-01-12 00:21:31,928 Stage-1 map = 100%,  reduce = 100%, Cumulative CPU 4.03 sec\n",
      "MapReduce Total cumulative CPU time: 4 seconds 30 msec\n",
      "Ended Job = job_1578776258951_0009\n",
      "Launching Job 2 out of 2\n",
      "Number of reduce tasks determined at compile time: 1\n",
      "In order to change the average load for a reducer (in bytes):\n",
      "  set hive.exec.reducers.bytes.per.reducer=<number>\n",
      "In order to limit the maximum number of reducers:\n",
      "  set hive.exec.reducers.max=<number>\n",
      "In order to set a constant number of reducers:\n",
      "  set mapreduce.job.reduces=<number>\n",
      "Starting Job = job_1578776258951_0010, Tracking URL = http://e19ecdc0743b:8088/proxy/application_1578776258951_0010/\n",
      "Kill Command = /usr/local/hadoop/bin/hadoop job  -kill job_1578776258951_0010\n",
      "Hadoop job information for Stage-2: number of mappers: 1; number of reducers: 1\n",
      "2020-01-12 00:21:46,996 Stage-2 map = 0%,  reduce = 0%\n",
      "2020-01-12 00:21:54,084 Stage-2 map = 100%,  reduce = 0%, Cumulative CPU 1.47 sec\n",
      "2020-01-12 00:22:10,806 Stage-2 map = 100%,  reduce = 100%, Cumulative CPU 3.45 sec\n",
      "MapReduce Total cumulative CPU time: 3 seconds 450 msec\n",
      "Ended Job = job_1578776258951_0010\n",
      "Moving data to directory hdfs://0.0.0.0:9000/user/hive/warehouse/salida\n",
      "MapReduce Jobs Launched: \n",
      "Stage-Stage-1: Map: 1  Reduce: 1   Cumulative CPU: 4.03 sec   HDFS Read: 7830 HDFS Write: 196 SUCCESS\n",
      "Stage-Stage-2: Map: 1  Reduce: 1   Cumulative CPU: 3.45 sec   HDFS Read: 5350 HDFS Write: 93 SUCCESS\n",
      "Total MapReduce CPU Time Spent: 7 seconds 480 msec\n",
      "OK\n",
      "Time taken: 77.829 seconds\n",
      "--SELECT * \n",
      "--FROM salida \n",
      "--LIMIT 5;     \n"
     ]
    }
   ],
   "source": [
    "%%hive\n",
    "DROP TABLE IF EXISTS salida;\n",
    "CREATE TABLE salida\n",
    "AS\n",
    "    SELECT letra, count(1) AS cuenta\n",
    "    FROM\n",
    "        data\n",
    "GROUP BY\n",
    "    letra\n",
    "ORDER BY\n",
    "    letra;\n",
    "    \n",
    "--SELECT * \n",
    "--FROM salida \n",
    "--LIMIT 5;     "
   ]
  },
  {
   "cell_type": "code",
   "execution_count": 6,
   "metadata": {},
   "outputs": [
    {
     "name": "stdout",
     "output_type": "stream",
     "text": [
      "INSERT OVERWRITE DIRECTORY 'tmp/output'\n",
      "ROW FORMAT DELIMITED FIELDS TERMINATED BY ','\n",
      "SELECT\n",
      "    *\n",
      "FROM\n",
      "    salida;\n",
      "WARNING: Hive-on-MR is deprecated in Hive 2 and may not be available in the future versions. Consider using a different execution engine (i.e. spark, tez) or using Hive 1.X releases.\n",
      "Query ID = root_20200112002249_5bac64bc-0e59-4658-b76c-51c71e70e598\n",
      "Total jobs = 3\n",
      "Launching Job 1 out of 3\n",
      "Number of reduce tasks is set to 0 since there's no reduce operator\n",
      "Starting Job = job_1578776258951_0011, Tracking URL = http://e19ecdc0743b:8088/proxy/application_1578776258951_0011/\n",
      "Kill Command = /usr/local/hadoop/bin/hadoop job  -kill job_1578776258951_0011\n",
      "Hadoop job information for Stage-1: number of mappers: 1; number of reducers: 0\n",
      "2020-01-12 00:22:57,148 Stage-1 map = 0%,  reduce = 0%\n",
      "2020-01-12 00:23:02,628 Stage-1 map = 100%,  reduce = 0%, Cumulative CPU 0.95 sec\n",
      "MapReduce Total cumulative CPU time: 950 msec\n",
      "Ended Job = job_1578776258951_0011\n",
      "Stage-3 is selected by condition resolver.\n",
      "Stage-2 is filtered out by condition resolver.\n",
      "Stage-4 is filtered out by condition resolver.\n",
      "Moving data to directory hdfs://0.0.0.0:9000/user/root/tmp/output/.hive-staging_hive_2020-01-12_00-22-49_135_8511260297017669739-1/-ext-10000\n",
      "Moving data to directory tmp/output\n",
      "MapReduce Jobs Launched: \n",
      "Stage-Stage-1: Map: 1   Cumulative CPU: 0.95 sec   HDFS Read: 3394 HDFS Write: 23 SUCCESS\n",
      "Total MapReduce CPU Time Spent: 950 msec\n",
      "OK\n",
      "Time taken: 14.724 seconds\n"
     ]
    }
   ],
   "source": [
    "%%hive\n",
    "INSERT OVERWRITE DIRECTORY 'tmp/000000_0'\n",
    "ROW FORMAT DELIMITED FIELDS TERMINATED BY ','\n",
    "SELECT\n",
    "    *\n",
    "FROM\n",
    "    salida;"
   ]
  },
  {
   "cell_type": "code",
   "execution_count": 11,
   "metadata": {},
   "outputs": [],
   "source": [
    "!hadoop fs -copyToLocal ./tmp/000000_0 output"
   ]
  },
  {
   "cell_type": "code",
   "execution_count": 12,
   "metadata": {},
   "outputs": [],
   "source": [
    "%hive_quit"
   ]
  },
  {
   "cell_type": "code",
   "execution_count": null,
   "metadata": {},
   "outputs": [],
   "source": []
  }
 ],
 "metadata": {
  "kernelspec": {
   "display_name": "Python 3",
   "language": "python",
   "name": "python3"
  },
  "language_info": {
   "codemirror_mode": {
    "name": "ipython",
    "version": 3
   },
   "file_extension": ".py",
   "mimetype": "text/x-python",
   "name": "python",
   "nbconvert_exporter": "python",
   "pygments_lexer": "ipython3",
   "version": "3.6.9"
  }
 },
 "nbformat": 4,
 "nbformat_minor": 4
}
