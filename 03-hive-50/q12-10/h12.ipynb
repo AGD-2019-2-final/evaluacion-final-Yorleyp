{
 "cells": [
  {
   "cell_type": "code",
   "execution_count": 1,
   "metadata": {},
   "outputs": [],
   "source": [
    "%load_ext bigdata\n",
    "%hive_start\n",
    "%timeout 300"
   ]
  },
  {
   "cell_type": "code",
   "execution_count": 2,
   "metadata": {},
   "outputs": [
    {
     "name": "stdout",
     "output_type": "stream",
     "text": [
      "Deleted tmp\n"
     ]
    }
   ],
   "source": [
    "!hadoop fs -rm -f -r tmp;"
   ]
  },
  {
   "cell_type": "code",
   "execution_count": 3,
   "metadata": {},
   "outputs": [
    {
     "name": "stdout",
     "output_type": "stream",
     "text": [
      "DROP TABLE IF EXISTS t0;\n",
      "OK\n",
      "Time taken: 13.416 seconds\n",
      "CREATE TABLE t0 (\n",
      "    c1 STRING,\n",
      "    c2 ARRAY<CHAR(1)>, \n",
      "    c3 MAP<STRING, INT>\n",
      "    )\n",
      "    ROW FORMAT DELIMITED \n",
      "        FIELDS TERMINATED BY '\\t'\n",
      "        COLLECTION ITEMS TERMINATED BY ','\n",
      "        MAP KEYS TERMINATED BY '#'\n",
      "        LINES TERMINATED BY '\\n';\n",
      "OK\n",
      "Time taken: 4.411 seconds\n"
     ]
    }
   ],
   "source": [
    "%%hive\n",
    "DROP TABLE IF EXISTS t0;\n",
    "CREATE TABLE t0 (\n",
    "    c1 STRING,\n",
    "    c2 ARRAY<CHAR(1)>, \n",
    "    c3 MAP<STRING, INT>\n",
    "    )\n",
    "    ROW FORMAT DELIMITED \n",
    "        FIELDS TERMINATED BY '\\t'\n",
    "        COLLECTION ITEMS TERMINATED BY ','\n",
    "        MAP KEYS TERMINATED BY '#'\n",
    "        LINES TERMINATED BY '\\n';"
   ]
  },
  {
   "cell_type": "code",
   "execution_count": 4,
   "metadata": {},
   "outputs": [
    {
     "name": "stdout",
     "output_type": "stream",
     "text": [
      "LOAD DATA LOCAL INPATH 'data.tsv' INTO TABLE t0;\n",
      "Loading data to table default.t0\n",
      "OK\n",
      "Time taken: 2.29 seconds\n"
     ]
    }
   ],
   "source": [
    "%%hive\n",
    "LOAD DATA LOCAL INPATH 'data.tsv' INTO TABLE t0;"
   ]
  },
  {
   "cell_type": "code",
   "execution_count": 5,
   "metadata": {},
   "outputs": [
    {
     "name": "stdout",
     "output_type": "stream",
     "text": [
      "DROP TABLE IF EXISTS temp0;\n",
      "OK\n",
      "Time taken: 0.021 seconds\n",
      "CREATE TABLE temp0\n",
      "AS\n",
      "    SELECT c1, A2, c3\n",
      "    FROM (t0 LATERAL VIEW explode(c2) t0 AS A2);\n",
      "WARNING: Hive-on-MR is deprecated in Hive 2 and may not be available in the future versions. Consider using a different execution engine (i.e. spark, tez) or using Hive 1.X releases.\n",
      "Query ID = root_20200215222858_afd3d9cf-fa82-474b-b2e1-03685d1b3d0b\n",
      "Total jobs = 3\n",
      "Launching Job 1 out of 3\n",
      "Number of reduce tasks is set to 0 since there's no reduce operator\n",
      "Starting Job = job_1581805131066_0006, Tracking URL = http://a941f0cb9236:8088/proxy/application_1581805131066_0006/\n",
      "Kill Command = /usr/local/hadoop/bin/hadoop job  -kill job_1581805131066_0006\n",
      "Hadoop job information for Stage-1: number of mappers: 1; number of reducers: 0\n",
      "2020-02-15 22:29:11,896 Stage-1 map = 0%,  reduce = 0%\n",
      "2020-02-15 22:29:16,494 Stage-1 map = 100%,  reduce = 0%, Cumulative CPU 1.71 sec\n",
      "MapReduce Total cumulative CPU time: 1 seconds 710 msec\n",
      "Ended Job = job_1581805131066_0006\n",
      "Stage-4 is selected by condition resolver.\n",
      "Stage-3 is filtered out by condition resolver.\n",
      "Stage-5 is filtered out by condition resolver.\n",
      "Moving data to directory hdfs://0.0.0.0:9000/user/hive/warehouse/.hive-staging_hive_2020-02-15_22-28-58_948_3540326490819141126-1/-ext-10001\n",
      "Moving data to directory hdfs://0.0.0.0:9000/user/hive/warehouse/temp0\n",
      "MapReduce Jobs Launched: \n",
      "Stage-Stage-1: Map: 1   Cumulative CPU: 1.71 sec   HDFS Read: 6704 HDFS Write: 3524 SUCCESS\n",
      "Total MapReduce CPU Time Spent: 1 seconds 710 msec\n",
      "OK\n",
      "Time taken: 20.795 seconds\n"
     ]
    }
   ],
   "source": [
    "%%hive\n",
    "DROP TABLE IF EXISTS temp0;\n",
    "CREATE TABLE temp0\n",
    "AS\n",
    "    SELECT c1, A2, c3\n",
    "    FROM (t0 LATERAL VIEW explode(c2) t0 AS A2);"
   ]
  },
  {
   "cell_type": "code",
   "execution_count": 6,
   "metadata": {},
   "outputs": [
    {
     "name": "stdout",
     "output_type": "stream",
     "text": [
      "--SELECT * \n",
      "--FROM temp0;    \n"
     ]
    }
   ],
   "source": [
    "%%hive\n",
    "--SELECT * \n",
    "--FROM temp0;    "
   ]
  },
  {
   "cell_type": "code",
   "execution_count": 7,
   "metadata": {},
   "outputs": [
    {
     "name": "stdout",
     "output_type": "stream",
     "text": [
      "DROP TABLE IF EXISTS temp1;\n",
      "OK\n",
      "Time taken: 0.025 seconds\n",
      "CREATE TABLE temp1\n",
      "AS\n",
      "    SELECT c1, A2, A3\n",
      "    FROM (temp0 LATERAL VIEW explode(c3) temp0 AS A3,V1);\n",
      "WARNING: Hive-on-MR is deprecated in Hive 2 and may not be available in the future versions. Consider using a different execution engine (i.e. spark, tez) or using Hive 1.X releases.\n",
      "Query ID = root_20200215222920_398f831b-4148-4c77-b9ea-a456464b3f5b\n",
      "Total jobs = 3\n",
      "Launching Job 1 out of 3\n",
      "Number of reduce tasks is set to 0 since there's no reduce operator\n",
      "Starting Job = job_1581805131066_0007, Tracking URL = http://a941f0cb9236:8088/proxy/application_1581805131066_0007/\n",
      "Kill Command = /usr/local/hadoop/bin/hadoop job  -kill job_1581805131066_0007\n",
      "Hadoop job information for Stage-1: number of mappers: 1; number of reducers: 0\n",
      "2020-02-15 22:29:31,168 Stage-1 map = 0%,  reduce = 0%\n",
      "2020-02-15 22:29:40,101 Stage-1 map = 100%,  reduce = 0%, Cumulative CPU 1.53 sec\n",
      "MapReduce Total cumulative CPU time: 1 seconds 530 msec\n",
      "Ended Job = job_1581805131066_0007\n",
      "Stage-4 is selected by condition resolver.\n",
      "Stage-3 is filtered out by condition resolver.\n",
      "Stage-5 is filtered out by condition resolver.\n",
      "Moving data to directory hdfs://0.0.0.0:9000/user/hive/warehouse/.hive-staging_hive_2020-02-15_22-29-20_215_8590270214317287087-1/-ext-10001\n",
      "Moving data to directory hdfs://0.0.0.0:9000/user/hive/warehouse/temp1\n",
      "MapReduce Jobs Launched: \n",
      "Stage-Stage-1: Map: 1   Cumulative CPU: 1.53 sec   HDFS Read: 8620 HDFS Write: 4072 SUCCESS\n",
      "Total MapReduce CPU Time Spent: 1 seconds 530 msec\n",
      "OK\n",
      "Time taken: 21.515 seconds\n"
     ]
    }
   ],
   "source": [
    "%%hive\n",
    "DROP TABLE IF EXISTS temp1;\n",
    "CREATE TABLE temp1\n",
    "AS\n",
    "    SELECT c1, A2, A3\n",
    "    FROM (temp0 LATERAL VIEW explode(c3) temp0 AS A3,V1);"
   ]
  },
  {
   "cell_type": "code",
   "execution_count": 8,
   "metadata": {},
   "outputs": [
    {
     "name": "stdout",
     "output_type": "stream",
     "text": [
      "--SELECT * \n",
      "--FROM temp1\n",
      "--LIMIT 10;  \n"
     ]
    }
   ],
   "source": [
    "%%hive\n",
    "--SELECT * \n",
    "--FROM temp1\n",
    "--LIMIT 10;  "
   ]
  },
  {
   "cell_type": "code",
   "execution_count": 9,
   "metadata": {},
   "outputs": [
    {
     "name": "stdout",
     "output_type": "stream",
     "text": [
      "DROP TABLE IF EXISTS salida;\n",
      "OK\n",
      "Time taken: 1.256 seconds\n",
      "CREATE TABLE salida\n",
      "AS\n",
      "    SELECT A2, A3, COUNT(c1)\n",
      "    FROM temp1\n",
      "    GROUP BY A2, A3;\n",
      "WARNING: Hive-on-MR is deprecated in Hive 2 and may not be available in the future versions. Consider using a different execution engine (i.e. spark, tez) or using Hive 1.X releases.\n",
      "Query ID = root_20200215222943_60a5def3-e7b3-42ce-9c7d-894eda59f5b3\n",
      "Total jobs = 1\n",
      "Launching Job 1 out of 1\n",
      "Number of reduce tasks not specified. Estimated from input data size: 1\n",
      "In order to change the average load for a reducer (in bytes):\n",
      "  set hive.exec.reducers.bytes.per.reducer=<number>\n",
      "In order to limit the maximum number of reducers:\n",
      "  set hive.exec.reducers.max=<number>\n",
      "In order to set a constant number of reducers:\n",
      "  set mapreduce.job.reduces=<number>\n",
      "Starting Job = job_1581805131066_0008, Tracking URL = http://a941f0cb9236:8088/proxy/application_1581805131066_0008/\n",
      "Kill Command = /usr/local/hadoop/bin/hadoop job  -kill job_1581805131066_0008\n",
      "Hadoop job information for Stage-1: number of mappers: 1; number of reducers: 1\n",
      "2020-02-15 22:29:54,722 Stage-1 map = 0%,  reduce = 0%\n",
      "2020-02-15 22:30:03,452 Stage-1 map = 100%,  reduce = 0%, Cumulative CPU 2.01 sec\n",
      "2020-02-15 22:30:11,153 Stage-1 map = 100%,  reduce = 100%, Cumulative CPU 4.18 sec\n",
      "MapReduce Total cumulative CPU time: 4 seconds 180 msec\n",
      "Ended Job = job_1581805131066_0008\n",
      "Moving data to directory hdfs://0.0.0.0:9000/user/hive/warehouse/salida\n",
      "MapReduce Jobs Launched: \n",
      "Stage-Stage-1: Map: 1  Reduce: 1   Cumulative CPU: 4.18 sec   HDFS Read: 12534 HDFS Write: 644 SUCCESS\n",
      "Total MapReduce CPU Time Spent: 4 seconds 180 msec\n",
      "OK\n",
      "Time taken: 29.244 seconds\n"
     ]
    }
   ],
   "source": [
    "%%hive\n",
    "DROP TABLE IF EXISTS salida;\n",
    "CREATE TABLE salida\n",
    "AS\n",
    "    SELECT A2, A3, COUNT(c1)\n",
    "    FROM temp1\n",
    "    GROUP BY A2, A3;"
   ]
  },
  {
   "cell_type": "code",
   "execution_count": 10,
   "metadata": {},
   "outputs": [
    {
     "name": "stdout",
     "output_type": "stream",
     "text": [
      "--SELECT * \n",
      "--FROM salida\n",
      "--LIMIT 5;\n"
     ]
    }
   ],
   "source": [
    "%%hive\n",
    "--SELECT * \n",
    "--FROM salida\n",
    "--LIMIT 5;"
   ]
  },
  {
   "cell_type": "code",
   "execution_count": 11,
   "metadata": {},
   "outputs": [
    {
     "name": "stdout",
     "output_type": "stream",
     "text": [
      "INSERT OVERWRITE DIRECTORY 'tmp/000000_0'\n",
      "ROW FORMAT DELIMITED FIELDS TERMINATED BY ','\n",
      "SELECT\n",
      "    *\n",
      "FROM\n",
      "    salida;\n",
      "WARNING: Hive-on-MR is deprecated in Hive 2 and may not be available in the future versions. Consider using a different execution engine (i.e. spark, tez) or using Hive 1.X releases.\n",
      "Query ID = root_20200215223013_c04c7e79-5bdf-44ae-8499-2fffd523279a\n",
      "Total jobs = 3\n",
      "Launching Job 1 out of 3\n",
      "Number of reduce tasks is set to 0 since there's no reduce operator\n",
      "Starting Job = job_1581805131066_0009, Tracking URL = http://a941f0cb9236:8088/proxy/application_1581805131066_0009/\n",
      "Kill Command = /usr/local/hadoop/bin/hadoop job  -kill job_1581805131066_0009\n",
      "Hadoop job information for Stage-1: number of mappers: 1; number of reducers: 0\n",
      "2020-02-15 22:30:25,039 Stage-1 map = 0%,  reduce = 0%\n",
      "2020-02-15 22:30:30,527 Stage-1 map = 100%,  reduce = 0%, Cumulative CPU 1.33 sec\n",
      "MapReduce Total cumulative CPU time: 1 seconds 330 msec\n",
      "Ended Job = job_1581805131066_0009\n",
      "Stage-3 is selected by condition resolver.\n",
      "Stage-2 is filtered out by condition resolver.\n",
      "Stage-4 is filtered out by condition resolver.\n",
      "Moving data to directory hdfs://0.0.0.0:9000/user/root/tmp/000000_0/.hive-staging_hive_2020-02-15_22-30-13_333_8545876806160164408-1/-ext-10000\n",
      "Moving data to directory tmp/000000_0\n",
      "MapReduce Jobs Launched: \n",
      "Stage-Stage-1: Map: 1   Cumulative CPU: 1.33 sec   HDFS Read: 4200 HDFS Write: 573 SUCCESS\n",
      "Total MapReduce CPU Time Spent: 1 seconds 330 msec\n",
      "OK\n",
      "Time taken: 18.368 seconds\n"
     ]
    }
   ],
   "source": [
    "%%hive\n",
    "INSERT OVERWRITE DIRECTORY 'tmp/000000_0'\n",
    "ROW FORMAT DELIMITED FIELDS TERMINATED BY ','\n",
    "SELECT\n",
    "    *\n",
    "FROM\n",
    "    salida;"
   ]
  },
  {
   "cell_type": "code",
   "execution_count": 12,
   "metadata": {},
   "outputs": [],
   "source": [
    "!hadoop fs -copyToLocal ./tmp/000000_0 output"
   ]
  },
  {
   "cell_type": "code",
   "execution_count": 13,
   "metadata": {},
   "outputs": [],
   "source": [
    "%hive_quit"
   ]
  },
  {
   "cell_type": "code",
   "execution_count": null,
   "metadata": {},
   "outputs": [],
   "source": []
  },
  {
   "cell_type": "code",
   "execution_count": null,
   "metadata": {},
   "outputs": [],
   "source": []
  }
 ],
 "metadata": {
  "kernelspec": {
   "display_name": "Python 3",
   "language": "python",
   "name": "python3"
  },
  "language_info": {
   "codemirror_mode": {
    "name": "ipython",
    "version": 3
   },
   "file_extension": ".py",
   "mimetype": "text/x-python",
   "name": "python",
   "nbconvert_exporter": "python",
   "pygments_lexer": "ipython3",
   "version": "3.6.9"
  }
 },
 "nbformat": 4,
 "nbformat_minor": 4
}
